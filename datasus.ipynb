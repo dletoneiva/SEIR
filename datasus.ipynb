{
 "cells": [
  {
   "cell_type": "code",
   "execution_count": 94,
   "metadata": {},
   "outputs": [],
   "source": [
    "from elasticsearch import Elasticsearch\n",
    "from elasticsearch.helpers import scan\n"
   ]
  },
  {
   "cell_type": "code",
   "execution_count": 96,
   "metadata": {},
   "outputs": [],
   "source": [
    "class DataSUS:\n",
    "    \"\"\"\n",
    "    Instantiates a DataSUS object. It gets data from brazilian SUS API's, cleans it and exports it to a JSON object.\n",
    "    \"\"\"    \n",
    "    \n",
    "    def __init__(self, **kwargs):\n",
    "        self.api_url = 'https://imunizacao-es.saude.gov.br:443/_search'\n",
    "        self.auth = ('imunizacao_public', 'qlto5t&7r_@+#Tlstigi')\n",
    "        self.index = 'desc-imunizacao'\n",
    "\n",
    "    def connect(self):\n",
    "        client = Elasticsearch(self.api_url,\n",
    "                               basic_auth=(self.auth[0], self.auth[1]))\n",
    "\n",
    "        return client\n"
   ]
  },
  {
   "cell_type": "code",
   "execution_count": 95,
   "metadata": {},
   "outputs": [
    {
     "data": {
      "text/plain": [
       "<generator object scan at 0x000001A4537F16D0>"
      ]
     },
     "execution_count": 95,
     "metadata": {},
     "output_type": "execute_result"
    }
   ],
   "source": [
    "scan(DataSUS().connect())"
   ]
  },
  {
   "cell_type": "code",
   "execution_count": 89,
   "metadata": {},
   "outputs": [
    {
     "data": {
      "text/plain": [
       "ObjectApiResponse({'took': 5, 'timed_out': False, '_shards': {'total': 30, 'successful': 30, 'skipped': 0, 'failed': 0}, 'hits': {'total': {'value': 10000, 'relation': 'gte'}, 'max_score': 1.0, 'hits': [{'_index': 'desc-imunizacao-v5', '_type': '_doc', '_id': '09b8c06b-d7db-48ec-b693-deb6d9eb973b-i0b0', '_score': 1.0, '_source': {'sistema_origem': 'Novo PNI', 'paciente_endereco_coPais': '10', 'vacina_codigo': '85', 'vacina_fabricante_nome': 'ASTRAZENECA/FIOCRUZ', 'vacina_nome': 'COVID-19 ASTRAZENECA/FIOCRUZ - COVISHIELD', 'estabelecimento_razaoSocial': 'PREFEITURA MUNICIPAL DE CEDRO', 'paciente_enumSexoBiologico': 'F', 'paciente_endereco_uf': 'CE', 'data_importacao_rnds': '2022-08-10T16:39:00.000Z', 'paciente_racaCor_valor': 'AMARELA', 'vacina_categoria_codigo': '2', 'estabelecimento_valor': '2610485', 'paciente_id': '722f54d5ec0b458d81a46162fe81802950bc65fcc1f1512d506e6410a22761d7', 'vacina_lote': '221VCD017W', 'data_importacao_datalake': '2022-08-10T18:09:08.000Z', 'estabelecimento_uf': 'CE', '@timestamp': '2022-08-10T21:21:01.426Z', 'paciente_nacionalidade_enumNacionalidade': 'B', 'estabelecimento_municipio_codigo': '230380', 'vacina_descricao_dose': '2º Reforço', 'vacina_numDose': '7', 'status': 'final', 'paciente_dataNascimento': '2004-06-15', 'vacina_grupoAtendimento_codigo': '000201', 'document_id': '09b8c06b-d7db-48ec-b693-deb6d9eb973b-i0b0', 'paciente_racaCor_codigo': '04', 'vacina_dataAplicacao': '2022-07-29T00:00:00.000Z', 'paciente_endereco_cep': '63400', 'paciente_endereco_nmPais': 'BRASIL', 'vacina_categoria_nome': 'Faixa Etária', 'vacina_fabricante_referencia': 'Organization/149', 'paciente_endereco_coIbgeMunicipio': '230380', 'paciente_idade': 18, 'paciente_endereco_nmMunicipio': 'CEDRO', 'estalecimento_noFantasia': 'UBSF ESFSB ASSUNCAO DISTRITO DE ASSUNCAO', 'id_sistema_origem': '16341', 'estabelecimento_municipio_nome': 'CEDRO', '@version': '1', 'dt_deleted': None, 'vacina_grupoAtendimento_nome': 'Pessoas de 18 a 64 anos'}}, {'_index': 'desc-imunizacao-v5', '_type': '_doc', '_id': '97143b08-79c6-4dde-af34-195bda81b5de-i0b0', '_score': 1.0, '_source': {'sistema_origem': 'Novo PNI', 'paciente_endereco_coPais': '10', 'vacina_codigo': '85', 'vacina_fabricante_nome': 'ASTRAZENECA/FIOCRUZ', 'vacina_nome': 'COVID-19 ASTRAZENECA/FIOCRUZ - COVISHIELD', 'estabelecimento_razaoSocial': 'SMS RIO CMS JORGE SALDANHA BANDEIRA DE MELLO AP 40', 'paciente_enumSexoBiologico': 'M', 'paciente_endereco_uf': 'RJ', 'data_importacao_rnds': '2022-08-10T14:28:06.000Z', 'paciente_racaCor_valor': 'SEM INFORMACAO', 'vacina_categoria_codigo': '2', 'estabelecimento_valor': '2296543', 'paciente_id': '3f370990f29cd8207847b0c58d565680520e9257770652cac7891b469ddc5d15', 'vacina_lote': '21PVCD390W', 'data_importacao_datalake': '2022-08-10T18:09:08.000Z', 'estabelecimento_uf': 'RJ', '@timestamp': '2022-08-10T21:21:01.467Z', 'paciente_nacionalidade_enumNacionalidade': 'B', 'estabelecimento_municipio_codigo': '330455', 'vacina_descricao_dose': '2º Reforço', 'vacina_numDose': '7', 'status': 'final', 'paciente_dataNascimento': '2004-01-09', 'vacina_grupoAtendimento_codigo': '000201', 'document_id': '97143b08-79c6-4dde-af34-195bda81b5de-i0b0', 'paciente_racaCor_codigo': '99', 'vacina_dataAplicacao': '2022-08-10T00:00:00.000Z', 'paciente_endereco_cep': '22713', 'paciente_endereco_nmPais': 'BRASIL', 'vacina_categoria_nome': 'Faixa Etária', 'vacina_fabricante_referencia': 'Organization/149', 'paciente_endereco_coIbgeMunicipio': '330455', 'paciente_idade': 18, 'paciente_endereco_nmMunicipio': 'RIO DE JANEIRO', 'estalecimento_noFantasia': 'SMS CMS JORGE SALDANHA BANDEIRA DE MELLO AP 40', 'id_sistema_origem': '16341', 'estabelecimento_municipio_nome': 'RIO DE JANEIRO', '@version': '1', 'dt_deleted': None, 'vacina_grupoAtendimento_nome': 'Pessoas de 18 a 64 anos'}}, {'_index': 'desc-imunizacao-v5', '_type': '_doc', '_id': '40629442-fc8a-47c3-8967-bace00c3a707-i0b0', '_score': 1.0, '_source': {'sistema_origem': 'Novo PNI', 'paciente_endereco_coPais': '10', 'vacina_codigo': '87', 'vacina_fabricante_nome': 'PFIZER', 'vacina_nome': 'COVID-19 PFIZER - COMIRNATY', 'estabelecimento_razaoSocial': 'PREFEITURA MUNICIPAL DE RIO BRANCO', 'paciente_enumSexoBiologico': 'M', 'paciente_endereco_uf': 'AC', 'data_importacao_rnds': '2022-08-10T17:58:47.000Z', 'paciente_racaCor_valor': 'PRETA', 'vacina_categoria_codigo': '2', 'estabelecimento_valor': '6917291', 'paciente_id': '85d1068323da015855ad2677f96f50589481e92698fbf2a0c3ebe6d1542ea03d', 'vacina_lote': 'FP7498', 'data_importacao_datalake': '2022-08-10T18:09:08.000Z', 'estabelecimento_uf': 'AC', '@timestamp': '2022-08-10T21:21:01.468Z', 'paciente_nacionalidade_enumNacionalidade': 'B', 'estabelecimento_municipio_codigo': '120040', 'vacina_descricao_dose': '2º Reforço', 'vacina_numDose': '7', 'status': 'final', 'paciente_dataNascimento': '1986-05-03', 'vacina_grupoAtendimento_codigo': '000201', 'document_id': '40629442-fc8a-47c3-8967-bace00c3a707-i0b0', 'paciente_racaCor_codigo': '02', 'vacina_dataAplicacao': '2022-08-09T00:00:00.000Z', 'paciente_endereco_cep': '69909', 'paciente_endereco_nmPais': 'BRASIL', 'vacina_categoria_nome': 'Faixa Etária', 'vacina_fabricante_referencia': 'Organization/28290', 'paciente_endereco_coIbgeMunicipio': '120040', 'paciente_idade': 36, 'paciente_endereco_nmMunicipio': 'RIO BRANCO', 'estalecimento_noFantasia': 'DEPARTAMENTO DE VIGILANCIA EPIDEMIOLOGICA E AMBIENTAL', 'id_sistema_origem': '16341', 'estabelecimento_municipio_nome': 'RIO BRANCO', '@version': '1', 'dt_deleted': None, 'vacina_grupoAtendimento_nome': 'Pessoas de 18 a 64 anos'}}, {'_index': 'desc-imunizacao-v5', '_type': '_doc', '_id': 'c3b0fb2b-8323-4131-8a9d-20de6ae6e30c-i0b0', '_score': 1.0, '_source': {'sistema_origem': 'SIGRAH', 'paciente_endereco_coPais': '10', 'vacina_codigo': '85', 'vacina_fabricante_nome': 'ASTRAZENECA/FIOCRUZ', 'vacina_nome': 'COVID-19 ASTRAZENECA/FIOCRUZ - COVISHIELD', 'estabelecimento_razaoSocial': 'MUNICIPIO DE BELO HORIZONTE', 'paciente_enumSexoBiologico': 'F', 'paciente_endereco_uf': 'MG', 'data_importacao_rnds': '2022-08-10T12:23:19.000Z', 'paciente_racaCor_valor': 'PARDA', 'vacina_categoria_codigo': '9', 'estabelecimento_valor': '9077324', 'paciente_id': '81a3074cea75281fb154b6d452c4468a0b7576d4200315919f85ac7d2f757619', 'vacina_lote': '221VCD039W', 'data_importacao_datalake': '2022-08-10T18:09:08.000Z', 'estabelecimento_uf': 'MG', '@timestamp': '2022-08-10T21:21:01.469Z', 'paciente_nacionalidade_enumNacionalidade': 'B', 'estabelecimento_municipio_codigo': '310620', 'vacina_descricao_dose': '2º Reforço', 'vacina_numDose': '7', 'status': 'final', 'paciente_dataNascimento': '1967-06-20', 'vacina_grupoAtendimento_codigo': '000926', 'document_id': 'c3b0fb2b-8323-4131-8a9d-20de6ae6e30c-i0b0', 'paciente_racaCor_codigo': '03', 'vacina_dataAplicacao': '2022-08-10T00:00:00.000Z', 'paciente_endereco_cep': '30520', 'paciente_endereco_nmPais': 'BRASIL', 'vacina_categoria_nome': 'Trabalhadores de Saúde', 'vacina_fabricante_referencia': None, 'paciente_endereco_coIbgeMunicipio': '310620', 'paciente_idade': 55, 'paciente_endereco_nmMunicipio': 'BELO HORIZONTE', 'estalecimento_noFantasia': 'CENTRO DE SAUDE CAMARGOS', 'id_sistema_origem': '19788', 'estabelecimento_municipio_nome': 'BELO HORIZONTE', '@version': '1', 'dt_deleted': None, 'vacina_grupoAtendimento_nome': 'Outros'}}, {'_index': 'desc-imunizacao-v5', '_type': '_doc', '_id': 'a33ef560-2761-4f2d-ad49-c7d3d49a2099-i0b0', '_score': 1.0, '_source': {'sistema_origem': 'Novo PNI', 'paciente_endereco_coPais': '10', 'vacina_codigo': '85', 'vacina_fabricante_nome': 'ASTRAZENECA/FIOCRUZ', 'vacina_nome': 'COVID-19 ASTRAZENECA/FIOCRUZ - COVISHIELD', 'estabelecimento_razaoSocial': 'MUNICIPIO DE RIO DO PIRES', 'paciente_enumSexoBiologico': 'F', 'paciente_endereco_uf': 'BA', 'data_importacao_rnds': '2022-08-10T15:00:17.000Z', 'paciente_racaCor_valor': 'PARDA', 'vacina_categoria_codigo': '2', 'estabelecimento_valor': '6143342', 'paciente_id': 'ecd3c6b098ef03568e5799fdd03f943a14dc1190d4f2e9fe5f822271cb87e0ae', 'vacina_lote': '21PVCD388W', 'data_importacao_datalake': '2022-08-10T18:09:08.000Z', 'estabelecimento_uf': 'BA', '@timestamp': '2022-08-10T21:21:01.470Z', 'paciente_nacionalidade_enumNacionalidade': 'B', 'estabelecimento_municipio_codigo': '292690', 'vacina_descricao_dose': '2º Reforço', 'vacina_numDose': '7', 'status': 'final', 'paciente_dataNascimento': '1989-05-20', 'vacina_grupoAtendimento_codigo': '000201', 'document_id': 'a33ef560-2761-4f2d-ad49-c7d3d49a2099-i0b0', 'paciente_racaCor_codigo': '03', 'vacina_dataAplicacao': '2022-08-04T00:00:00.000Z', 'paciente_endereco_cep': '46550', 'paciente_endereco_nmPais': 'BRASIL', 'vacina_categoria_nome': 'Faixa Etária', 'vacina_fabricante_referencia': 'Organization/149', 'paciente_endereco_coIbgeMunicipio': '292690', 'paciente_idade': 33, 'paciente_endereco_nmMunicipio': 'RIO DO PIRES', 'estalecimento_noFantasia': 'UNIDADE DE SAUDE DA FAMILIA DA PLACA', 'id_sistema_origem': '16341', 'estabelecimento_municipio_nome': 'RIO DO PIRES', '@version': '1', 'dt_deleted': None, 'vacina_grupoAtendimento_nome': 'Pessoas de 18 a 64 anos'}}, {'_index': 'desc-imunizacao-v5', '_type': '_doc', '_id': 'f25d6f53-2d66-4312-86c7-ebc6a1ad97dc-i0b0', '_score': 1.0, '_source': {'sistema_origem': 'Novo PNI', 'paciente_endereco_coPais': '10', 'vacina_codigo': '87', 'vacina_fabricante_nome': 'PFIZER', 'vacina_nome': 'COVID-19 PFIZER - COMIRNATY', 'estabelecimento_razaoSocial': 'PREFEITURA MUNICIPAL DE IMPERATRIZ', 'paciente_enumSexoBiologico': 'M', 'paciente_endereco_uf': 'MA', 'data_importacao_rnds': '2022-08-10T11:42:17.000Z', 'paciente_racaCor_valor': 'PARDA', 'vacina_categoria_codigo': '2', 'estabelecimento_valor': '2456117', 'paciente_id': 'cac3c74cafb5d0ae4a7c92d1b4267d4a60841179d96c28b6d872ce3d8347fcf2', 'vacina_lote': 'FM2951', 'data_importacao_datalake': '2022-08-10T18:09:08.000Z', 'estabelecimento_uf': 'MA', '@timestamp': '2022-08-10T21:21:01.456Z', 'paciente_nacionalidade_enumNacionalidade': 'B', 'estabelecimento_municipio_codigo': '210530', 'vacina_descricao_dose': '2º Reforço', 'vacina_numDose': '7', 'status': 'final', 'paciente_dataNascimento': '1947-07-19', 'vacina_grupoAtendimento_codigo': '000203', 'document_id': 'f25d6f53-2d66-4312-86c7-ebc6a1ad97dc-i0b0', 'paciente_racaCor_codigo': '03', 'vacina_dataAplicacao': '2022-08-10T00:00:00.000Z', 'paciente_endereco_cep': '65900', 'paciente_endereco_nmPais': 'BRASIL', 'vacina_categoria_nome': 'Faixa Etária', 'vacina_fabricante_referencia': 'Organization/28290', 'paciente_endereco_coIbgeMunicipio': '210530', 'paciente_idade': 75, 'paciente_endereco_nmMunicipio': 'IMPERATRIZ', 'estalecimento_noFantasia': 'UBS VILA LOBAO', 'id_sistema_origem': '16341', 'estabelecimento_municipio_nome': 'IMPERATRIZ', '@version': '1', 'dt_deleted': None, 'vacina_grupoAtendimento_nome': 'Pessoas de 70 a 74 anos'}}, {'_index': 'desc-imunizacao-v5', '_type': '_doc', '_id': '07487198-13f2-472a-8193-77692965b681-i0b0', '_score': 1.0, '_source': {'sistema_origem': 'Novo PNI', 'paciente_endereco_coPais': '10', 'vacina_codigo': '87', 'vacina_fabricante_nome': 'PFIZER', 'vacina_nome': 'COVID-19 PFIZER - COMIRNATY', 'estabelecimento_razaoSocial': 'MUNICIPIO DE CASTRO', 'paciente_enumSexoBiologico': 'M', 'paciente_endereco_uf': 'PR', 'data_importacao_rnds': '2022-08-10T16:10:47.000Z', 'paciente_racaCor_valor': 'BRANCA', 'vacina_categoria_codigo': '2', 'estabelecimento_valor': '2684039', 'paciente_id': 'abf8aca7f177d0d47e6e3182e063ff0276dbc2e39fd39441037140d59386525c', 'vacina_lote': 'FP7082', 'data_importacao_datalake': '2022-08-10T18:09:08.000Z', 'estabelecimento_uf': 'PR', '@timestamp': '2022-08-10T21:21:01.456Z', 'paciente_nacionalidade_enumNacionalidade': 'B', 'estabelecimento_municipio_codigo': '410490', 'vacina_descricao_dose': '2º Reforço', 'vacina_numDose': '7', 'status': 'final', 'paciente_dataNascimento': '1978-03-16', 'vacina_grupoAtendimento_codigo': '000201', 'document_id': '07487198-13f2-472a-8193-77692965b681-i0b0', 'paciente_racaCor_codigo': '01', 'vacina_dataAplicacao': '2022-08-10T00:00:00.000Z', 'paciente_endereco_cep': '84185', 'paciente_endereco_nmPais': 'BRASIL', 'vacina_categoria_nome': 'Faixa Etária', 'vacina_fabricante_referencia': 'Organization/28290', 'paciente_endereco_coIbgeMunicipio': '410490', 'paciente_idade': 44, 'paciente_endereco_nmMunicipio': 'CASTRO', 'estalecimento_noFantasia': 'UNIDADE DE SAUDE DA FAMILIA ABAPAN I', 'id_sistema_origem': '16341', 'estabelecimento_municipio_nome': 'CASTRO', '@version': '1', 'dt_deleted': None, 'vacina_grupoAtendimento_nome': 'Pessoas de 18 a 64 anos'}}, {'_index': 'desc-imunizacao-v5', '_type': '_doc', '_id': '39cf94ed-621a-42c6-b7f5-cf2179bdc838-i0b0', '_score': 1.0, '_source': {'sistema_origem': 'Novo PNI', 'paciente_endereco_coPais': '10', 'vacina_codigo': '87', 'vacina_fabricante_nome': 'PFIZER', 'vacina_nome': 'COVID-19 PFIZER - COMIRNATY', 'estabelecimento_razaoSocial': 'SMS RIO CMS DOM HELDER CAMARA AP 21', 'paciente_enumSexoBiologico': 'F', 'paciente_endereco_uf': 'RJ', 'data_importacao_rnds': '2022-08-10T16:50:59.000Z', 'paciente_racaCor_valor': 'BRANCA', 'vacina_categoria_codigo': '1', 'estabelecimento_valor': '2269651', 'paciente_id': 'ceb430c7a87f2b1e14a632317bb37ab8bbbbb502c0972d7d44df8a04e0e8acb9', 'vacina_lote': 'FP8544', 'data_importacao_datalake': '2022-08-10T18:09:08.000Z', 'estabelecimento_uf': 'RJ', '@timestamp': '2022-08-10T21:21:01.460Z', 'paciente_nacionalidade_enumNacionalidade': 'B', 'estabelecimento_municipio_codigo': '330455', 'vacina_descricao_dose': '2º Reforço', 'vacina_numDose': '7', 'status': 'final', 'paciente_dataNascimento': '2001-11-07', 'vacina_grupoAtendimento_codigo': '000111', 'document_id': '39cf94ed-621a-42c6-b7f5-cf2179bdc838-i0b0', 'paciente_racaCor_codigo': '01', 'vacina_dataAplicacao': '2022-08-10T00:00:00.000Z', 'paciente_endereco_cep': '20510', 'paciente_endereco_nmPais': 'BRASIL', 'vacina_categoria_nome': 'Comorbidades', 'vacina_fabricante_referencia': 'Organization/28290', 'paciente_endereco_coIbgeMunicipio': '330455', 'paciente_idade': 20, 'paciente_endereco_nmMunicipio': 'RIO DE JANEIRO', 'estalecimento_noFantasia': 'SMS CMS DOM HELDER CAMARA AP 21', 'id_sistema_origem': '16341', 'estabelecimento_municipio_nome': 'RIO DE JANEIRO', '@version': '1', 'dt_deleted': None, 'vacina_grupoAtendimento_nome': 'Outros Imunocomprometidos'}}, {'_index': 'desc-imunizacao-v5', '_type': '_doc', '_id': 'b936012d-3ff4-4c42-9b37-76eabc8a86f3-i0b0', '_score': 1.0, '_source': {'sistema_origem': 'Novo PNI', 'paciente_endereco_coPais': '10', 'vacina_codigo': '87', 'vacina_fabricante_nome': 'PFIZER', 'vacina_nome': 'COVID-19 PFIZER - COMIRNATY', 'estabelecimento_razaoSocial': 'SMS RIO CMS ATHAYDE JOSE DA FONSECA AP 51', 'paciente_enumSexoBiologico': 'M', 'paciente_endereco_uf': 'RJ', 'data_importacao_rnds': '2022-08-10T14:39:12.000Z', 'paciente_racaCor_valor': 'PRETA', 'vacina_categoria_codigo': '2', 'estabelecimento_valor': '2270463', 'paciente_id': '61f3f1ebb12ccd0ce70a0f2c1465f11c511337413f12ea0bf4ce6f4e4f3b9385', 'vacina_lote': 'FP8544', 'data_importacao_datalake': '2022-08-10T18:09:08.000Z', 'estabelecimento_uf': 'RJ', '@timestamp': '2022-08-10T21:21:01.460Z', 'paciente_nacionalidade_enumNacionalidade': 'B', 'estabelecimento_municipio_codigo': '330455', 'vacina_descricao_dose': '2º Reforço', 'vacina_numDose': '7', 'status': 'final', 'paciente_dataNascimento': '2002-09-17', 'vacina_grupoAtendimento_codigo': '000201', 'document_id': 'b936012d-3ff4-4c42-9b37-76eabc8a86f3-i0b0', 'paciente_racaCor_codigo': '02', 'vacina_dataAplicacao': '2022-08-10T00:00:00.000Z', 'paciente_endereco_cep': '21865', 'paciente_endereco_nmPais': 'BRASIL', 'vacina_categoria_nome': 'Faixa Etária', 'vacina_fabricante_referencia': 'Organization/28290', 'paciente_endereco_coIbgeMunicipio': '330455', 'paciente_idade': 19, 'paciente_endereco_nmMunicipio': 'RIO DE JANEIRO', 'estalecimento_noFantasia': 'SMS CMS ATHAYDE JOSE DA FONSECA AP 51', 'id_sistema_origem': '16341', 'estabelecimento_municipio_nome': 'RIO DE JANEIRO', '@version': '1', 'dt_deleted': None, 'vacina_grupoAtendimento_nome': 'Pessoas de 18 a 64 anos'}}, {'_index': 'desc-imunizacao-v5', '_type': '_doc', '_id': '25e37b7e-2918-4c9f-aab5-3a51597f6ef6-i0b0', '_score': 1.0, '_source': {'sistema_origem': 'Sanitas - Sistema Integrado de Saúde', 'paciente_endereco_coPais': '10', 'vacina_codigo': '88', 'vacina_fabricante_nome': 'JANSSEN', 'vacina_nome': 'COVID-19 JANSSEN - Ad26.COV2.S', 'estabelecimento_razaoSocial': 'PREFEITURA MUNICIPAL DE IPATINGA', 'paciente_enumSexoBiologico': 'F', 'paciente_endereco_uf': 'MG', 'data_importacao_rnds': '2022-07-26T12:46:45.000Z', 'paciente_racaCor_valor': 'AMARELA', 'vacina_categoria_codigo': '2', 'estabelecimento_valor': '2193086', 'paciente_id': '5e6c1369afa0bcf145985c0fa983713ab88e3daa546efa3884a6cbab9f486e05', 'vacina_lote': '211J21A', 'data_importacao_datalake': '2022-08-10T18:09:08.000Z', 'estabelecimento_uf': 'MG', '@timestamp': '2022-08-10T21:21:01.474Z', 'paciente_nacionalidade_enumNacionalidade': 'B', 'estabelecimento_municipio_codigo': '313130', 'vacina_descricao_dose': '2º Reforço', 'vacina_numDose': '7', 'status': 'final', 'paciente_dataNascimento': '1957-01-10', 'vacina_grupoAtendimento_codigo': '000202', 'document_id': '25e37b7e-2918-4c9f-aab5-3a51597f6ef6-i0b0', 'paciente_racaCor_codigo': '04', 'vacina_dataAplicacao': '2022-07-26T00:00:00.000Z', 'paciente_endereco_cep': '35162', 'paciente_endereco_nmPais': 'BRASIL', 'vacina_categoria_nome': 'Faixa Etária', 'vacina_fabricante_referencia': 'Organization/00394544000851', 'paciente_endereco_coIbgeMunicipio': '313130', 'paciente_idade': 65, 'paciente_endereco_nmMunicipio': 'IPATINGA', 'estalecimento_noFantasia': 'UNIDADE DE SAUDE DO ESPERANCA', 'id_sistema_origem': '18462', 'estabelecimento_municipio_nome': 'IPATINGA', '@version': '1', 'dt_deleted': None, 'vacina_grupoAtendimento_nome': 'Pessoas de 65 a 69 anos'}}]}})"
      ]
     },
     "execution_count": 89,
     "metadata": {},
     "output_type": "execute_result"
    }
   ],
   "source": [
    "client = Elasticsearch('https://imunizacao-es.saude.gov.br:443/_search',\n",
    "                basic_auth=(auth[0], auth[1]))\n",
    "client.info()"
   ]
  }
 ],
 "metadata": {
  "kernelspec": {
   "display_name": "Python 3.9.7 ('base')",
   "language": "python",
   "name": "python3"
  },
  "language_info": {
   "codemirror_mode": {
    "name": "ipython",
    "version": 3
   },
   "file_extension": ".py",
   "mimetype": "text/x-python",
   "name": "python",
   "nbconvert_exporter": "python",
   "pygments_lexer": "ipython3",
   "version": "3.9.7"
  },
  "orig_nbformat": 4,
  "vscode": {
   "interpreter": {
    "hash": "ad2bdc8ecc057115af97d19610ffacc2b4e99fae6737bb82f5d7fb13d2f2c186"
   }
  }
 },
 "nbformat": 4,
 "nbformat_minor": 2
}
