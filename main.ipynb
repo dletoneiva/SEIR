{
 "cells": [
  {
   "cell_type": "code",
   "execution_count": 2,
   "metadata": {},
   "outputs": [],
   "source": [
    "# import statements\n",
    "from scipy.integrate import ode, solve_ivp # ordinary diff equations solver\n",
    "import numpy as np\n",
    "import matplotlib.pyplot as plt\n",
    "\n",
    "%matplotlib inline"
   ]
  },
  {
   "cell_type": "code",
   "execution_count": 159,
   "metadata": {},
   "outputs": [],
   "source": [
    "class seir_model:\n",
    "    \"\"\"\n",
    "    Intantiates a seir_model object.\n",
    "    \"\"\"\n",
    "\n",
    "    def __init__(self, N=1e3, time_range=10, **kwargs):\n",
    "        \"\"\"\n",
    "        Initializes the model with default parameters.\n",
    "\n",
    "        Args:\n",
    "            N (int, optional): [Population size]. Defaults to 1e3.\n",
    "            time_range (int, optional): [Simulation time in days]. Defaults to 10.\n",
    "        \"\"\"    \n",
    "        # initializes model parameters\n",
    "        self.time_range = time_range # simulation duration in days\n",
    "        self.beta = 0.3 # time varying transmission rate, initial value\n",
    "        self.Z = 3.69 # average time, in days, for exposed to become infected\n",
    "        self.alpha = 0.6 # reported infections rate (Ir/Ir+In)\n",
    "        self.D = 7.0 # average time, in days, for the infection duration. \n",
    "\n",
    "        # initializes infection parameters\n",
    "        self.N = N # initial number of individuals in the population\n",
    "        self.S = 0.9 * N # initial number of susceptible individuals\n",
    "        self.E = 0.4 * N # initial number of exposed individuals\n",
    "        self.Ir = 0.4 * N # initial number of reported infected individuals\n",
    "        self.In = 0.1 * N # initial number of non-reported infected individuals\n",
    "        self.R = 0.01 * N # initial number of recovered\n",
    "\n",
    "        for key, value in kwargs.items(): # updates model parameters, if any\n",
    "            setattr(self, key, value)\n",
    "\n",
    "        # checks if inputs are valid\n",
    "        conditions = all([self.S <= self.N,\n",
    "                          self.E <= self.N,\n",
    "                          self.Ir <= self.N,\n",
    "                          self.In <= self.N,\n",
    "                          self.R <= self.N,\n",
    "                          self.alpha > 0,\n",
    "                          self.alpha <= 1,\n",
    "                          self.beta >= 0,\n",
    "                          self.beta <= 1])\n",
    "        if conditions:\n",
    "            self.solution = self.solve_seir_function()\n",
    "        else:\n",
    "            raise Exception('Parameters are not valid.')\n",
    "\n",
    "    def seir_function(self, t, y, beta, Z, alpha, D):\n",
    "        \"\"\"\n",
    "        Defines the function to be solved in the Initial Value Problem.\n",
    "\n",
    "        Args:\n",
    "            t (float): [Time to be varied]\n",
    "            y ([array of floats]): [Contains the infection parameters]\n",
    "            beta ([float]): [Transmission rate]\n",
    "            Z ([float]): [Average time for infection, days]\n",
    "            alpha ([float]): [Reported infections rate]\n",
    "            D ([float]): [Average time for the infection duration, days]\n",
    "\n",
    "        Returns:\n",
    "            [array of floats]: [returns the deterministic equations]\n",
    "        \"\"\"        \n",
    "        S, E, In, Ir, R = y\n",
    "\n",
    "        # model compartments\n",
    "        dSdt = (-self.beta/self.N) * S * (In+Ir) # susceptible individuals time varying rate\n",
    "        dEdt = (self.beta/self.N) * S * (In+Ir) - (1/self.Z) * E # exposed individuals time varying rate\n",
    "        dIrdt = (alpha/self.Z) * E - (1/self.D) * Ir # reported infections time varying rate\n",
    "        dIndt = ((1-alpha)/self.Z) * E - (1/self.D) * In # non reported infections time varying rate\n",
    "        dRdt = (1/self.D) * (In+Ir) # recovered individuals time varying rate\n",
    "\n",
    "        return np.array([dSdt, dEdt, dIrdt, dIndt, dRdt])\n",
    "\n",
    "\n",
    "    def solve_seir_function(self):\n",
    "        \"\"\"\n",
    "        Solves the seir function based on initial values, uses scipy.integrate.\n",
    "\n",
    "        Returns:\n",
    "            [object]: [Solution object]\n",
    "        \"\"\"        \n",
    "        solver = solve_ivp(self.seir_function,\n",
    "                            [0, self.time_range],\n",
    "                            [self.S, self.E, self.In, self.Ir, self.R],\n",
    "                            # t_eval = np.array(range(self.time_range)),\n",
    "                            method = 'RK45',\n",
    "                            args = [self.beta, self.Z, self.alpha, self.D])\n",
    "        return solver\n",
    "\n",
    "\n",
    "    def plot_results(self, split_i=False):\n",
    "        \"\"\"\n",
    "        Plots the results using matplotlib, based on object values.\n",
    "\n",
    "        Args:\n",
    "            split_i (bool, optional): [True if split between reported and non reported]. \n",
    "            Defaults to False.\n",
    "        \"\"\"        \n",
    "       \n",
    "        \n",
    "        S_solved = self.solution.y[0]\n",
    "        E_solved = self.solution.y[1]\n",
    "        In_solved = self.solution.y[2]\n",
    "        Ir_solved = self.solution.y[3]\n",
    "        R_solved = self.solution.y[4]\n",
    "        time_solved = self.solution.t\n",
    "\n",
    "        fig, ax = plt.subplots(figsize=(15,5))\n",
    "        if split_i:\n",
    "            vals = [S_solved, E_solved, In_solved, Ir_solved, R_solved]\n",
    "            labels = ['S', 'E', 'In', 'Ir', 'R']\n",
    "        else:\n",
    "            vals = [S_solved, E_solved, In_solved + Ir_solved, R_solved]\n",
    "            labels = ['S', 'E', 'I', 'R']\n",
    "\n",
    "        for var in vals:\n",
    "            plt.plot(time_solved, var)\n",
    "\n",
    "        plt.legend(labels)"
   ]
  },
  {
   "cell_type": "code",
   "execution_count": 160,
   "metadata": {},
   "outputs": [
    {
     "data": {
      "image/png": "[encoded data removed]",
      "text/plain": [
       "<Figure size 1080x360 with 1 Axes>"
      ]
     },
     "metadata": {
      "needs_background": "light"
     },
     "output_type": "display_data"
    }
   ],
   "source": [
    "model = seir_model(N = 1000,\n",
    "                   time_range = 100,\n",
    "                   beta = 0.01,\n",
    "                   alpha = 0.01,\n",
    "                   S = 900,\n",
    "                   E = 100,\n",
    "                   In = 100,\n",
    "                   Ir = 0,\n",
    "                   R = 0)\n",
    "model.plot_results()"
   ]
  },
  {
   "cell_type": "code",
   "execution_count": 140,
   "metadata": {},
   "outputs": [
    {
     "data": {
      "image/png": "[encoded data removed]",
      "text/plain": [
       "<Figure size 432x288 with 1 Axes>"
      ]
     },
     "metadata": {
      "needs_background": "light"
     },
     "output_type": "display_data"
    }
   ],
   "source": [
    "def seir_f(t, y, beta, sigma, gamma):\n",
    "    s, e, i, r = y\n",
    "    return np.array([-beta * i * s,\n",
    "                     -sigma * e + beta * i * s, \n",
    "                     -gamma * i + sigma * e, \n",
    "                     gamma * i])\n",
    "\n",
    "# try some parameter values\n",
    "beta = 1\n",
    "sigma = 1\n",
    "gamma = 0.1\n",
    "\n",
    "sol = solve_ivp(seir_f, [0, 60], [0.99, 0.01, 0, 0], \n",
    "                rtol=1e-6, args=(beta, sigma, gamma))\n",
    "\n",
    "fig = plt.figure(); ax = fig.gca()\n",
    "curves = ax.plot(sol.t, sol.y.T)\n",
    "ax.legend(curves, ['S', 'E', 'I', 'R']);"
   ]
  }
 ],
 "metadata": {
  "interpreter": {
   "hash": "b3ba2566441a7c06988d0923437866b63cedc61552a5af99d1f4fb67d367b25f"
  },
  "kernelspec": {
   "display_name": "Python 3.8.5 64-bit ('base': conda)",
   "language": "python",
   "name": "python3"
  },
  "language_info": {
   "codemirror_mode": {
    "name": "ipython",
    "version": 3
   },
   "file_extension": ".py",
   "mimetype": "text/x-python",
   "name": "python",
   "nbconvert_exporter": "python",
   "pygments_lexer": "ipython3",
   "version": "3.8.5"
  },
  "orig_nbformat": 4
 },
 "nbformat": 4,
 "nbformat_minor": 2
}
