{
 "cells": [
  {
   "cell_type": "code",
   "execution_count": 1,
   "metadata": {},
   "outputs": [],
   "source": [
    "# model parameters\n",
    "beta = 1 # time varying transmission rate, initial value\n",
    "Z = 3.69 # average time, in days, for exposed to become infected\n",
    "alpha = 1 # reported infections rate (Ir/Ir+In)\n",
    "D = 7.0 # average time, in days, for the infection duration. \n",
    "\n",
    "# infection parameters\n",
    "N = 1 # initial number of individuals in the population\n",
    "S = 0 # number of susceptible individuals\n",
    "Ir = 0 # number of reported infected individuals\n",
    "In = 0 # number of non-reported infected individuals\n",
    "E = 0 # number of exposed individuals\n",
    "I = Ir + In"
   ]
  },
  {
   "cell_type": "code",
   "execution_count": null,
   "metadata": {},
   "outputs": [],
   "source": [
    "# model compartments\n",
    "dSdt = (-beta/N)*S*I # susceptible individuals time varying rate\n",
    "dEdt = (beta/N)*S*I - (1/Z)*E # exposed individuals time varying rate\n",
    "dIrdt = (alpha/Z)*E - (1/D)*Ir # reported infections time varying rate\n",
    "dIndt = ((1-alpha)/Z)*E - (1/D)*In # non reported infections time varying rate\n",
    "dRdt = (1/D)*I # recovered individuals time varying rate\n"
   ]
  }
 ],
 "metadata": {
  "interpreter": {
   "hash": "b3ba2566441a7c06988d0923437866b63cedc61552a5af99d1f4fb67d367b25f"
  },
  "kernelspec": {
   "display_name": "Python 3.8.5 64-bit ('base': conda)",
   "language": "python",
   "name": "python3"
  },
  "language_info": {
   "codemirror_mode": {
    "name": "ipython",
    "version": 3
   },
   "file_extension": ".py",
   "mimetype": "text/x-python",
   "name": "python",
   "nbconvert_exporter": "python",
   "pygments_lexer": "ipython3",
   "version": "3.8.5"
  },
  "orig_nbformat": 4
 },
 "nbformat": 4,
 "nbformat_minor": 2
}
